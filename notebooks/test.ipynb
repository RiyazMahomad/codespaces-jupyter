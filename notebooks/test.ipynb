{
 "cells": [
  {
   "cell_type": "code",
   "execution_count": 2,
   "metadata": {},
   "outputs": [
    {
     "name": "stdout",
     "output_type": "stream",
     "text": [
      "True\n",
      "1\n",
      "2\n",
      "2\n",
      "3\n",
      "Queue is empty\n",
      "0\n",
      "True\n"
     ]
    }
   ],
   "source": [
    "class Queue:\n",
    "    def __init__(self):\n",
    "        self.queue = []\n",
    "\n",
    "    def is_empty(self):\n",
    "        return len(self.queue) == 0\n",
    "\n",
    "    def enqueue(self, item):\n",
    "        self.queue.append(item)\n",
    "\n",
    "    def dequeue(self):\n",
    "        if self.is_empty():\n",
    "            return \"Queue is empty\"\n",
    "        return self.queue.pop(0)\n",
    "\n",
    "    def size(self):\n",
    "        return len(self.queue)\n",
    "#call the class\n",
    "q = Queue()\n",
    "print(q.is_empty())\n",
    "q.enqueue(1)\n",
    "q.enqueue(2)\n",
    "q.enqueue(3)\n",
    "print(q.dequeue())\n",
    "print(q.size())\n",
    "print(q.dequeue())\n",
    "print(q.dequeue())\n",
    "print(q.dequeue())\n",
    "print(q.size())\n",
    "print(q.is_empty())\n"
   ]
  }
 ],
 "metadata": {
  "kernelspec": {
   "display_name": "Python 3",
   "language": "python",
   "name": "python3"
  },
  "language_info": {
   "codemirror_mode": {
    "name": "ipython",
    "version": 3
   },
   "file_extension": ".py",
   "mimetype": "text/x-python",
   "name": "python",
   "nbconvert_exporter": "python",
   "pygments_lexer": "ipython3",
   "version": "3.10.13"
  }
 },
 "nbformat": 4,
 "nbformat_minor": 2
}
